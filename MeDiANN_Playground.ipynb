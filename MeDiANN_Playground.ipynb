{
 "cells": [
  {
   "attachments": {},
   "cell_type": "markdown",
   "metadata": {},
   "source": [
    "# MeDiANN AI \n",
    "\n",
    "This is the official notebook for MeDiANN AI, the Machine Learning model that emulates the behavior of the S4 method to generate the Reflections and Transmission coefficients for different kinds of geometrical parameters and for different wavelengths. "
   ]
  },
  {
   "attachments": {},
   "cell_type": "markdown",
   "metadata": {},
   "source": [
    "## 0. Import modules\n",
    "\n",
    "The first thing that we need to do is to import the libraries.\n",
    "### Q: What are the functions of the modules? Write all the subroutines and their functions. "
   ]
  },
  {
   "cell_type": "code",
   "execution_count": 178,
   "metadata": {},
   "outputs": [],
   "source": [
    "import numpy as np \n",
    "import matplotlib.pyplot as plt \n",
    "#from constants import * \n",
    "\n",
    "from data_importer import DataImporter\n",
    "\n",
    "# data importer- import and preprocess data\n",
    "\n",
    "from MeDiANN import MeDiANN_Magic\n",
    "#from util import * \n",
    "from result_analyzer import ResultAnalyzer\n",
    "import warnings\n",
    "warnings.filterwarnings(\"ignore\")\n"
   ]
  },
  {
   "attachments": {},
   "cell_type": "markdown",
   "metadata": {},
   "source": [
    "## 1. Data Importer \n",
    "\n",
    "The first object that we need to select is the Data Importer one. Assuming that you generated data somewhere, you can set the data folder path, or the root folder path that has a `\\data` folder in it. If you don't, we will assume that the root path is in the same folder where you are running this notebook. \n",
    "\n",
    "### Q: What are the alternatives of specifying all the paths one by one?"
   ]
  },
  {
   "cell_type": "code",
   "execution_count": 179,
   "metadata": {},
   "outputs": [],
   "source": [
    "root_path= '/home/apexmds/Documents/GitHub/MeDiANN2.0' #change this path here as the root path\n",
    "data_path = '/home/apexmds/Documents/GitHub/data_for_debanik' #or directly change this into the data path\n",
    "model_path = root_path+'/model' #model directory, where you will store the models once that they are trained"
   ]
  },
  {
   "attachments": {},
   "cell_type": "markdown",
   "metadata": {},
   "source": [
    "After we select the data path or root path, you can select the name of the parameter list name, reflection list name and transmission list name:\n",
    "* The parameter list name is the name of the geometrical parameters. It is assumed to be `X.npy`\n",
    "* The reflection list name is the name of the reflection. It is assumed to be `reflection.npy`\n",
    "* The transmission list name is the name of the transmission. It is assumed to be `transmission.npy` "
   ]
  },
  {
   "cell_type": "code",
   "execution_count": 180,
   "metadata": {},
   "outputs": [],
   "source": [
    "parameter_file_name = 'X_angle_45_polarization_s.npy' #Name of the parameter name \n",
    "reflection_file_name = 'reflection_angle_45_polarization_s.npy' # Name of the reflection file name  \n",
    "transmission_file_name = 'transmission_angle_45_polarization_s.npy' #Name of the transmission file name\n",
    "\n",
    "\n",
    "\n"
   ]
  },
  {
   "attachments": {},
   "cell_type": "markdown",
   "metadata": {},
   "source": [
    "Another thing you can select is the name of the experiment name. Everything that you will store out of the experiment will be saved with the experiment name:"
   ]
  },
  {
   "cell_type": "code",
   "execution_count": 181,
   "metadata": {},
   "outputs": [],
   "source": [
    "experiment_name = 'magic_model' #Store the name of the experiment however you like"
   ]
  },
  {
   "attachments": {},
   "cell_type": "markdown",
   "metadata": {},
   "source": [
    "Once that you have selected all of it, let's set the `DataImporter`:"
   ]
  },
  {
   "cell_type": "code",
   "execution_count": 182,
   "metadata": {},
   "outputs": [],
   "source": [
    "data_importer = DataImporter(root_path=root_path,data_path= data_path,experiment_name=experiment_name,\n",
    "                                X_path_name=parameter_file_name,T_path_name=transmission_file_name,\n",
    "                                R_path_name=reflection_file_name)"
   ]
  },
  {
   "attachments": {},
   "cell_type": "markdown",
   "metadata": {},
   "source": [
    "The `data_importer` has a function that is named `import_data`. You can use this to import the data:"
   ]
  },
  {
   "cell_type": "code",
   "execution_count": 183,
   "metadata": {},
   "outputs": [
    {
     "name": "stdout",
     "output_type": "stream",
     "text": [
      "Welcome to MeDiANN! Your data is being imported.\n",
      "\n",
      "The type of your data is selected as npy\n",
      "Filtering is successfull! \n",
      "\n",
      "The dimension of the parameter array is  (24000, 6)\n",
      "The dimension of the reflection array is  (24000, 101)\n",
      "The dimension of the transmission array is  (24000, 101)\n",
      "Transformation of X is successfull! \n",
      "\n",
      "Training, validation, test split is successfull! \n",
      "\n"
     ]
    }
   ],
   "source": [
    "data = data_importer.import_data()\n"
   ]
  },
  {
   "attachments": {},
   "cell_type": "markdown",
   "metadata": {},
   "source": [
    "The dataset is a `dictionary`. The keys of this data dictionary are the following:"
   ]
  },
  {
   "attachments": {},
   "cell_type": "markdown",
   "metadata": {},
   "source": [
    "## 2. MeDiANN Magic (Machine Learning Model)\n",
    "\n",
    "The Machine Learning model is run **after** the data importer part. What you need to run this is the \n",
    "* `output_path` that is the path where you want to store the output \n",
    "* `result_path` that is the path where you want to store the results\n",
    "*  `model_path` that is the path where you want to store the trained models\n",
    "* `target` that is the target ( R or T )\n"
   ]
  },
  {
   "cell_type": "code",
   "execution_count": 184,
   "metadata": {},
   "outputs": [],
   "source": [
    "pre_trained_model_path = root_path+ '/model' #Insert model path \n",
    "\n",
    "output_path = root_path +'/output/' #Insert output \n",
    "result_path = root_path + '/result/' #Result path \n",
    "target = 'R' #The target of the model, it can be R or T"
   ]
  },
  {
   "attachments": {},
   "cell_type": "markdown",
   "metadata": {},
   "source": [
    "Once that these inputs are stored, we call the MeDiANN_MAgic object, and it is the main object of the Machine Learning."
   ]
  },
  {
   "cell_type": "code",
   "execution_count": 185,
   "metadata": {},
   "outputs": [],
   "source": [
    "mediann = MeDiANN_Magic(data,target,pre_trained_model_path=None,experiment_name=experiment_name,\n",
    "                        output_path=None,activation_function = ACTIVATION_FUNCTION,\n",
    "                        output_type = OUTPUT_FILE_TYPE,root_path = root_path)"
   ]
  },
  {
   "attachments": {},
   "cell_type": "markdown",
   "metadata": {},
   "source": [
    "The training part of these models go through the `train_baseline_model` and `train_boost_model`:"
   ]
  },
  {
   "cell_type": "code",
   "execution_count": 186,
   "metadata": {},
   "outputs": [
    {
     "name": "stdout",
     "output_type": "stream",
     "text": [
      "The model has been defined \n",
      "\n",
      "Training of the baseline machine learning model has started \n",
      "\n",
      "Epoch 1/300\n",
      "96/96 [==============================] - 4s 39ms/step - loss: 0.1482 - val_loss: 0.1115 - lr: 0.0010\n",
      "Epoch 2/300\n",
      "96/96 [==============================] - 4s 38ms/step - loss: 0.1003 - val_loss: 0.1038 - lr: 0.0010\n",
      "Epoch 3/300\n",
      "96/96 [==============================] - 3s 33ms/step - loss: 0.0956 - val_loss: 0.1041 - lr: 0.0010\n",
      "Epoch 4/300\n",
      "96/96 [==============================] - 4s 37ms/step - loss: 0.0919 - val_loss: 0.1008 - lr: 0.0010\n",
      "Epoch 5/300\n",
      "96/96 [==============================] - 3s 33ms/step - loss: 0.0881 - val_loss: 0.1040 - lr: 0.0010\n",
      "Epoch 6/300\n",
      "96/96 [==============================] - 4s 38ms/step - loss: 0.0868 - val_loss: 0.0906 - lr: 0.0010\n",
      "Epoch 7/300\n",
      "96/96 [==============================] - 3s 34ms/step - loss: 0.0834 - val_loss: 0.0945 - lr: 0.0010\n",
      "Epoch 8/300\n",
      "96/96 [==============================] - 3s 33ms/step - loss: 0.0808 - val_loss: 0.0906 - lr: 0.0010\n",
      "Epoch 9/300\n",
      "96/96 [==============================] - 4s 37ms/step - loss: 0.0786 - val_loss: 0.0836 - lr: 0.0010\n",
      "Epoch 10/300\n",
      "96/96 [==============================] - 4s 38ms/step - loss: 0.0754 - val_loss: 0.0787 - lr: 0.0010\n",
      "Epoch 11/300\n",
      "96/96 [==============================] - 3s 34ms/step - loss: 0.0720 - val_loss: 0.0788 - lr: 0.0010\n",
      "Epoch 12/300\n",
      "96/96 [==============================] - 4s 38ms/step - loss: 0.0702 - val_loss: 0.0759 - lr: 0.0010\n",
      "Epoch 13/300\n",
      "96/96 [==============================] - 4s 37ms/step - loss: 0.0683 - val_loss: 0.0716 - lr: 0.0010\n",
      "Epoch 14/300\n",
      "96/96 [==============================] - 3s 34ms/step - loss: 0.0652 - val_loss: 0.0770 - lr: 0.0010\n",
      "Epoch 15/300\n",
      "96/96 [==============================] - 4s 38ms/step - loss: 0.0649 - val_loss: 0.0706 - lr: 0.0010\n",
      "Epoch 16/300\n",
      "96/96 [==============================] - 4s 38ms/step - loss: 0.0630 - val_loss: 0.0691 - lr: 0.0010\n",
      "Epoch 17/300\n",
      "96/96 [==============================] - 3s 34ms/step - loss: 0.0612 - val_loss: 0.0701 - lr: 0.0010\n",
      "Epoch 18/300\n",
      "96/96 [==============================] - 4s 38ms/step - loss: 0.0602 - val_loss: 0.0667 - lr: 0.0010\n",
      "Epoch 19/300\n",
      "96/96 [==============================] - 4s 38ms/step - loss: 0.0582 - val_loss: 0.0661 - lr: 0.0010\n",
      "Epoch 20/300\n",
      "96/96 [==============================] - 3s 34ms/step - loss: 0.0566 - val_loss: 0.0680 - lr: 0.0010\n",
      "Epoch 21/300\n",
      "96/96 [==============================] - 4s 38ms/step - loss: 0.0566 - val_loss: 0.0631 - lr: 0.0010\n",
      "Epoch 22/300\n",
      "96/96 [==============================] - 4s 37ms/step - loss: 0.0546 - val_loss: 0.0607 - lr: 0.0010\n",
      "Epoch 23/300\n",
      "96/96 [==============================] - 3s 33ms/step - loss: 0.0544 - val_loss: 0.0621 - lr: 0.0010\n",
      "Epoch 24/300\n",
      "96/96 [==============================] - 4s 37ms/step - loss: 0.0528 - val_loss: 0.0566 - lr: 0.0010\n",
      "Epoch 25/300\n",
      "96/96 [==============================] - 3s 33ms/step - loss: 0.0523 - val_loss: 0.0587 - lr: 0.0010\n",
      "Epoch 26/300\n",
      "96/96 [==============================] - 4s 38ms/step - loss: 0.0499 - val_loss: 0.0527 - lr: 0.0010\n",
      "Epoch 27/300\n",
      "96/96 [==============================] - 3s 34ms/step - loss: 0.0498 - val_loss: 0.0557 - lr: 0.0010\n",
      "Epoch 28/300\n",
      "96/96 [==============================] - 3s 33ms/step - loss: 0.0491 - val_loss: 0.0531 - lr: 0.0010\n",
      "Epoch 29/300\n",
      "96/96 [==============================] - 3s 33ms/step - loss: 0.0488 - val_loss: 0.0537 - lr: 0.0010\n",
      "Epoch 30/300\n",
      "96/96 [==============================] - 4s 38ms/step - loss: 0.0470 - val_loss: 0.0487 - lr: 0.0010\n",
      "Epoch 31/300\n",
      "96/96 [==============================] - 3s 33ms/step - loss: 0.0458 - val_loss: 0.0494 - lr: 0.0010\n",
      "Epoch 32/300\n",
      "96/96 [==============================] - 3s 33ms/step - loss: 0.0458 - val_loss: 0.0530 - lr: 0.0010\n",
      "Epoch 33/300\n",
      "96/96 [==============================] - 4s 38ms/step - loss: 0.0461 - val_loss: 0.0462 - lr: 0.0010\n",
      "Epoch 34/300\n",
      "96/96 [==============================] - 3s 33ms/step - loss: 0.0439 - val_loss: 0.0478 - lr: 0.0010\n",
      "Epoch 35/300\n",
      "96/96 [==============================] - 3s 33ms/step - loss: 0.0438 - val_loss: 0.0565 - lr: 0.0010\n",
      "Epoch 36/300\n",
      "96/96 [==============================] - 3s 33ms/step - loss: 0.0461 - val_loss: 0.0471 - lr: 0.0010\n",
      "Epoch 37/300\n",
      "96/96 [==============================] - 4s 38ms/step - loss: 0.0427 - val_loss: 0.0461 - lr: 0.0010\n",
      "Epoch 38/300\n",
      "96/96 [==============================] - 3s 33ms/step - loss: 0.0420 - val_loss: 0.0490 - lr: 0.0010\n",
      "Epoch 39/300\n",
      "96/96 [==============================] - 3s 34ms/step - loss: 0.0423 - val_loss: 0.0481 - lr: 0.0010\n",
      "Epoch 40/300\n",
      "96/96 [==============================] - 3s 33ms/step - loss: 0.0416 - val_loss: 0.0472 - lr: 0.0010\n",
      "Epoch 41/300\n",
      "96/96 [==============================] - 4s 38ms/step - loss: 0.0419 - val_loss: 0.0443 - lr: 0.0010\n",
      "Epoch 42/300\n",
      "96/96 [==============================] - 4s 38ms/step - loss: 0.0405 - val_loss: 0.0425 - lr: 0.0010\n",
      "Epoch 43/300\n",
      "96/96 [==============================] - 3s 33ms/step - loss: 0.0392 - val_loss: 0.0450 - lr: 0.0010\n",
      "Epoch 44/300\n",
      "96/96 [==============================] - 3s 33ms/step - loss: 0.0398 - val_loss: 0.0453 - lr: 0.0010\n",
      "Epoch 45/300\n",
      "96/96 [==============================] - 3s 33ms/step - loss: 0.0393 - val_loss: 0.0470 - lr: 0.0010\n",
      "Epoch 46/300\n",
      "96/96 [==============================] - 3s 34ms/step - loss: 0.0395 - val_loss: 0.0445 - lr: 0.0010\n",
      "Epoch 47/300\n",
      "96/96 [==============================] - 3s 34ms/step - loss: 0.0391 - val_loss: 0.0459 - lr: 0.0010\n",
      "Epoch 48/300\n",
      "96/96 [==============================] - 3s 34ms/step - loss: 0.0393 - val_loss: 0.0428 - lr: 0.0010\n",
      "Epoch 49/300\n",
      "96/96 [==============================] - 3s 33ms/step - loss: 0.0382 - val_loss: 0.0451 - lr: 0.0010\n",
      "Epoch 50/300\n",
      " 7/96 [=>............................] - ETA: 2s - loss: 0.0431"
     ]
    }
   ],
   "source": [
    "baseline_model = mediann.train_baseline_model()\n",
    "boosted_model = mediann.train_boost_model(baseline_model)"
   ]
  },
  {
   "attachments": {},
   "cell_type": "markdown",
   "metadata": {},
   "source": [
    "These two models are trained, we can run the predictions:"
   ]
  },
  {
   "cell_type": "code",
   "execution_count": null,
   "metadata": {},
   "outputs": [
    {
     "name": "stdout",
     "output_type": "stream",
     "text": [
      "The model results will be saved as a .npy file with name /baseline_method_magic_model_pred\n",
      "372/372 [==============================] - 1s 3ms/step\n",
      "The boost model results will be saved as a .npy file with name /boost_method_magic_model_pred\n"
     ]
    },
    {
     "ename": "TypeError",
     "evalue": "'Sequential' object is not subscriptable",
     "output_type": "error",
     "traceback": [
      "\u001b[0;31m---------------------------------------------------------------------------\u001b[0m",
      "\u001b[0;31mTypeError\u001b[0m                                 Traceback (most recent call last)",
      "\u001b[1;32m/home/apexmds/Documents/GitHub/MeDiANN2.0/MeDiANN_Playground.ipynb Cell 22\u001b[0m line \u001b[0;36m2\n\u001b[1;32m      <a href='vscode-notebook-cell:/home/apexmds/Documents/GitHub/MeDiANN2.0/MeDiANN_Playground.ipynb#X30sZmlsZQ%3D%3D?line=0'>1</a>\u001b[0m baseline_pred \u001b[39m=\u001b[39m mediann\u001b[39m.\u001b[39mpredict(model\u001b[39m=\u001b[39mbaseline_model)\n\u001b[0;32m----> <a href='vscode-notebook-cell:/home/apexmds/Documents/GitHub/MeDiANN2.0/MeDiANN_Playground.ipynb#X30sZmlsZQ%3D%3D?line=1'>2</a>\u001b[0m boosted_pred \u001b[39m=\u001b[39m mediann\u001b[39m.\u001b[39mpredict_boost(model_pred\u001b[39m=\u001b[39mbaseline_pred, model_boost\u001b[39m=\u001b[39mboosted_model)\n",
      "File \u001b[0;32m~/Documents/GitHub/MeDiANN2.0/MeDiANN.py:180\u001b[0m, in \u001b[0;36mMeDiANN_Magic.predict_boost\u001b[0;34m(self, model_pred, model_boost, model_name)\u001b[0m\n\u001b[1;32m    178\u001b[0m model_name \u001b[39m=\u001b[39m \u001b[39m'\u001b[39m\u001b[39m/\u001b[39m\u001b[39m'\u001b[39m\u001b[39m+\u001b[39mmodel_name\u001b[39m+\u001b[39m\u001b[39m'\u001b[39m\u001b[39m_\u001b[39m\u001b[39m'\u001b[39m\u001b[39m+\u001b[39m\u001b[39mself\u001b[39m\u001b[39m.\u001b[39mexperiment_name\u001b[39m+\u001b[39m\u001b[39m'\u001b[39m\u001b[39m_pred\u001b[39m\u001b[39m'\u001b[39m\n\u001b[1;32m    179\u001b[0m \u001b[39mprint\u001b[39m(\u001b[39m'\u001b[39m\u001b[39mThe boost model results will be saved as a \u001b[39m\u001b[39m%s\u001b[39;00m\u001b[39m file with name \u001b[39m\u001b[39m%s\u001b[39;00m\u001b[39m'\u001b[39m\u001b[39m%\u001b[39m(\u001b[39mself\u001b[39m\u001b[39m.\u001b[39moutput_type,model_name))\n\u001b[0;32m--> 180\u001b[0m pred \u001b[39m=\u001b[39m model_pred\u001b[39m+\u001b[39mmodel_boost[\u001b[39m'\u001b[39m\u001b[39mmodel\u001b[39m\u001b[39m'\u001b[39m]\u001b[39m.\u001b[39mpredict(\u001b[39mself\u001b[39m\u001b[39m.\u001b[39minput)\n\u001b[1;32m    181\u001b[0m \u001b[39mif\u001b[39;00m \u001b[39mself\u001b[39m\u001b[39m.\u001b[39moutput_type \u001b[39m==\u001b[39m \u001b[39m'\u001b[39m\u001b[39mnpy\u001b[39m\u001b[39m'\u001b[39m:\n\u001b[1;32m    182\u001b[0m     np\u001b[39m.\u001b[39msave(\u001b[39mself\u001b[39m\u001b[39m.\u001b[39moutput_path\u001b[39m+\u001b[39mmodel_name\u001b[39m+\u001b[39m\u001b[39m'\u001b[39m\u001b[39m.npy\u001b[39m\u001b[39m'\u001b[39m,pred)\n",
      "\u001b[0;31mTypeError\u001b[0m: 'Sequential' object is not subscriptable"
     ]
    }
   ],
   "source": [
    "baseline_pred = mediann.predict(model=baseline_model)\n",
    "boosted_pred = mediann.predict_boost(model_pred=baseline_pred, model_boost=boosted_model)"
   ]
  },
  {
   "attachments": {},
   "cell_type": "markdown",
   "metadata": {},
   "source": [
    "## 3. Result Analyzer\n",
    "After the MeDiANN model has been run and the models have been run and trained, we can analyze the results:"
   ]
  },
  {
   "attachments": {},
   "cell_type": "markdown",
   "metadata": {},
   "source": [
    "We need to input:\n",
    "\n",
    "* The `data` dictionary (generated before)\n",
    "* The `baseline` and `boosted models` trained before\n",
    "* The `target` (selected before)\n",
    "* The `name of the experiment` (you can leave it as before or change it)\n",
    "* The `heatmap_path` if you have one (optional)\n"
   ]
  },
  {
   "cell_type": "code",
   "execution_count": null,
   "metadata": {},
   "outputs": [],
   "source": [
    "import tensorflow as tf\n",
    "\n",
    "selected_model = tf.keras.models.load_model(model_path+'/baseline_model_R_magic_model.hdf5')\n",
    "boosted_model = tf.keras.models.load_model(model_path +'/baseline_model_R_magic_model.hdf5')"
   ]
  },
  {
   "cell_type": "code",
   "execution_count": null,
   "metadata": {},
   "outputs": [
    {
     "name": "stdout",
     "output_type": "stream",
     "text": [
      "372/372 [==============================] - 1s 3ms/step\n",
      "372/372 [==============================] - 1s 3ms/step\n"
     ]
    }
   ],
   "source": [
    "\n",
    "target ='R'\n",
    "experiment_name = 'case_51_wavelength_501'\n",
    "heatmap_path = '/home/apexmds/Desktop/pcm_phc_tr/MeDiANN_AI2.0/data/heatmap_numbasis_51_num_wlngth_501/heatmap_0.5.csv'\n",
    "result_analyzer = ResultAnalyzer(data=data,model=selected_model,model_name='test_20_p',\n",
    "                                    target=target,boost_model=boosted_model,result_path=result_path, root_path=root_path,\n",
    "                                    heatmap_path=heatmap_path,experiment_name=experiment_name)"
   ]
  },
  {
   "attachments": {},
   "cell_type": "markdown",
   "metadata": {},
   "source": [
    "You can select the method and validate it (extract the error) using the baseline or boost:"
   ]
  },
  {
   "cell_type": "code",
   "execution_count": null,
   "metadata": {},
   "outputs": [],
   "source": [
    "baseline_error = result_analyzer.validate_method(method='baseline')\n",
    "boost_error = result_analyzer.validate_method(method='boost')"
   ]
  },
  {
   "attachments": {},
   "cell_type": "markdown",
   "metadata": {},
   "source": [
    "We can then compare then using the comparison_result:"
   ]
  },
  {
   "cell_type": "code",
   "execution_count": null,
   "metadata": {},
   "outputs": [
    {
     "data": {
      "text/html": [
       "<div>\n",
       "<style scoped>\n",
       "    .dataframe tbody tr th:only-of-type {\n",
       "        vertical-align: middle;\n",
       "    }\n",
       "\n",
       "    .dataframe tbody tr th {\n",
       "        vertical-align: top;\n",
       "    }\n",
       "\n",
       "    .dataframe thead th {\n",
       "        text-align: right;\n",
       "    }\n",
       "</style>\n",
       "<table border=\"1\" class=\"dataframe\">\n",
       "  <thead>\n",
       "    <tr style=\"text-align: right;\">\n",
       "      <th></th>\n",
       "      <th>case_51_wavelength_501, baseline error</th>\n",
       "      <th>case_51_wavelength_501, boosted model error</th>\n",
       "    </tr>\n",
       "  </thead>\n",
       "  <tbody>\n",
       "    <tr>\n",
       "      <th>count</th>\n",
       "      <td>119.000000</td>\n",
       "      <td>119.000000</td>\n",
       "    </tr>\n",
       "    <tr>\n",
       "      <th>mean</th>\n",
       "      <td>0.024832</td>\n",
       "      <td>0.448242</td>\n",
       "    </tr>\n",
       "    <tr>\n",
       "      <th>std</th>\n",
       "      <td>0.026060</td>\n",
       "      <td>0.026345</td>\n",
       "    </tr>\n",
       "    <tr>\n",
       "      <th>min</th>\n",
       "      <td>0.002738</td>\n",
       "      <td>0.392327</td>\n",
       "    </tr>\n",
       "    <tr>\n",
       "      <th>25%</th>\n",
       "      <td>0.008580</td>\n",
       "      <td>0.427458</td>\n",
       "    </tr>\n",
       "    <tr>\n",
       "      <th>50%</th>\n",
       "      <td>0.015669</td>\n",
       "      <td>0.446882</td>\n",
       "    </tr>\n",
       "    <tr>\n",
       "      <th>75%</th>\n",
       "      <td>0.026065</td>\n",
       "      <td>0.469199</td>\n",
       "    </tr>\n",
       "    <tr>\n",
       "      <th>max</th>\n",
       "      <td>0.128947</td>\n",
       "      <td>0.524203</td>\n",
       "    </tr>\n",
       "  </tbody>\n",
       "</table>\n",
       "</div>"
      ],
      "text/plain": [
       "       case_51_wavelength_501, baseline error  \\\n",
       "count                              119.000000   \n",
       "mean                                 0.024832   \n",
       "std                                  0.026060   \n",
       "min                                  0.002738   \n",
       "25%                                  0.008580   \n",
       "50%                                  0.015669   \n",
       "75%                                  0.026065   \n",
       "max                                  0.128947   \n",
       "\n",
       "       case_51_wavelength_501, boosted model error  \n",
       "count                                   119.000000  \n",
       "mean                                      0.448242  \n",
       "std                                       0.026345  \n",
       "min                                       0.392327  \n",
       "25%                                       0.427458  \n",
       "50%                                       0.446882  \n",
       "75%                                       0.469199  \n",
       "max                                       0.524203  "
      ]
     },
     "execution_count": 145,
     "metadata": {},
     "output_type": "execute_result"
    }
   ],
   "source": [
    "comparison_result = result_analyzer.compare_methods(baseline_error,boost_error)\n",
    "\n",
    "comparison_result\n"
   ]
  },
  {
   "cell_type": "code",
   "execution_count": null,
   "metadata": {},
   "outputs": [
    {
     "ename": "FileNotFoundError",
     "evalue": "[Errno 2] No such file or directory: '/home/apexmds/Desktop/pcm_phc_tr/MeDiANN_AI2.0/data/heatmap_numbasis_51_num_wlngth_501/heatmap_0.5.csv'",
     "output_type": "error",
     "traceback": [
      "\u001b[0;31m---------------------------------------------------------------------------\u001b[0m",
      "\u001b[0;31mFileNotFoundError\u001b[0m                         Traceback (most recent call last)",
      "\u001b[1;32m/home/apexmds/Documents/GitHub/MeDiANN2.0/MeDiANN_Playground.ipynb Cell 31\u001b[0m line \u001b[0;36m1\n\u001b[0;32m----> <a href='vscode-notebook-cell:/home/apexmds/Documents/GitHub/MeDiANN2.0/MeDiANN_Playground.ipynb#X42sZmlsZQ%3D%3D?line=0'>1</a>\u001b[0m result_analyzer\u001b[39m.\u001b[39mheatmap_plotter(method\u001b[39m=\u001b[39m\u001b[39m'\u001b[39m\u001b[39mboost\u001b[39m\u001b[39m'\u001b[39m)\n\u001b[1;32m      <a href='vscode-notebook-cell:/home/apexmds/Documents/GitHub/MeDiANN2.0/MeDiANN_Playground.ipynb#X42sZmlsZQ%3D%3D?line=1'>2</a>\u001b[0m result_analyzer\u001b[39m.\u001b[39mheatmap_plotter(method\u001b[39m=\u001b[39m\u001b[39m'\u001b[39m\u001b[39mbaseline\u001b[39m\u001b[39m'\u001b[39m)\n",
      "File \u001b[0;32m~/Documents/GitHub/MeDiANN2.0/result_analyzer.py:99\u001b[0m, in \u001b[0;36mResultAnalyzer.heatmap_plotter\u001b[0;34m(self, method)\u001b[0m\n\u001b[1;32m     97\u001b[0m name_target_heatmap \u001b[39m=\u001b[39m \u001b[39mself\u001b[39m\u001b[39m.\u001b[39mresult_path\u001b[39m+\u001b[39m\u001b[39m'\u001b[39m\u001b[39m/\u001b[39m\u001b[39m'\u001b[39m\u001b[39m+\u001b[39m\u001b[39mself\u001b[39m\u001b[39m.\u001b[39mexperiment_name\u001b[39m+\u001b[39m\u001b[39m'\u001b[39m\u001b[39m_target.png\u001b[39m\u001b[39m'\u001b[39m\n\u001b[1;32m     98\u001b[0m name_heatmap \u001b[39m=\u001b[39m \u001b[39mself\u001b[39m\u001b[39m.\u001b[39mresult_path\u001b[39m+\u001b[39m\u001b[39m'\u001b[39m\u001b[39m/\u001b[39m\u001b[39m'\u001b[39m\u001b[39m+\u001b[39m\u001b[39mself\u001b[39m\u001b[39m.\u001b[39mexperiment_name\u001b[39m+\u001b[39m\u001b[39m'\u001b[39m\u001b[39m_\u001b[39m\u001b[39m'\u001b[39m\u001b[39m+\u001b[39mmethod\u001b[39m+\u001b[39m\u001b[39m'\u001b[39m\u001b[39m_heatmap\u001b[39m\u001b[39m'\u001b[39m\n\u001b[0;32m---> 99\u001b[0m heatmap_data,R \u001b[39m=\u001b[39m \u001b[39mself\u001b[39m\u001b[39m.\u001b[39mheatmap_data_importer(trained_model)\n\u001b[1;32m    100\u001b[0m \u001b[39mif\u001b[39;00m method \u001b[39m==\u001b[39m\u001b[39m'\u001b[39m\u001b[39mbaseline\u001b[39m\u001b[39m'\u001b[39m:\n\u001b[1;32m    101\u001b[0m   \u001b[39mprint\u001b[39m(\u001b[39m'\u001b[39m\u001b[39mThe baseline method heatmap is being used to run the heatmap\u001b[39m\u001b[39m\\n\u001b[39;00m\u001b[39m'\u001b[39m)\n",
      "File \u001b[0;32m~/Documents/GitHub/MeDiANN2.0/result_analyzer.py:85\u001b[0m, in \u001b[0;36mResultAnalyzer.heatmap_data_importer\u001b[0;34m(self, trained_model)\u001b[0m\n\u001b[1;32m     83\u001b[0m   \u001b[39mraise\u001b[39;00m \u001b[39mValueError\u001b[39;00m(\u001b[39m'\u001b[39m\u001b[39mThere is no valid path for the heatmap data. Please add path\u001b[39m\u001b[39m'\u001b[39m)\n\u001b[1;32m     84\u001b[0m \u001b[39melse\u001b[39;00m:\n\u001b[0;32m---> 85\u001b[0m   heatmap_dict \u001b[39m=\u001b[39m build_heatmap_data(\u001b[39mself\u001b[39m\u001b[39m.\u001b[39mheatmap_path)\n\u001b[1;32m     86\u001b[0m   input_data \u001b[39m=\u001b[39m heatmap_dict[\u001b[39m'\u001b[39m\u001b[39mheatmap_input\u001b[39m\u001b[39m'\u001b[39m]\n\u001b[1;32m     87\u001b[0m   \u001b[39m#input_data = filter_X(input_data)\u001b[39;00m\n",
      "File \u001b[0;32m~/Documents/GitHub/MeDiANN2.0/util.py:158\u001b[0m, in \u001b[0;36mbuild_heatmap_data\u001b[0;34m(heatmap_path, state)\u001b[0m\n\u001b[1;32m    157\u001b[0m \u001b[39mdef\u001b[39;00m \u001b[39mbuild_heatmap_data\u001b[39m(heatmap_path,state\u001b[39m=\u001b[39m\u001b[39m'\u001b[39m\u001b[39ma_gst\u001b[39m\u001b[39m'\u001b[39m):\n\u001b[0;32m--> 158\u001b[0m     heatmap_data \u001b[39m=\u001b[39m import_heatmap_data(heatmap_path)\n\u001b[1;32m    159\u001b[0m     Xd, Pitch,R \u001b[39m=\u001b[39m heatmap_data[\u001b[39m'\u001b[39m\u001b[39mXd\u001b[39m\u001b[39m'\u001b[39m],heatmap_data[\u001b[39m'\u001b[39m\u001b[39mPitch\u001b[39m\u001b[39m'\u001b[39m], heatmap_data[\u001b[39m'\u001b[39m\u001b[39mValue\u001b[39m\u001b[39m'\u001b[39m]\n\u001b[1;32m    160\u001b[0m     heatmap_inputs \u001b[39m=\u001b[39m []\n",
      "File \u001b[0;32m~/Documents/GitHub/MeDiANN2.0/util.py:149\u001b[0m, in \u001b[0;36mimport_heatmap_data\u001b[0;34m(heatmap_path)\u001b[0m\n\u001b[1;32m    148\u001b[0m \u001b[39mdef\u001b[39;00m \u001b[39mimport_heatmap_data\u001b[39m(heatmap_path):\n\u001b[0;32m--> 149\u001b[0m     df \u001b[39m=\u001b[39m pd\u001b[39m.\u001b[39mread_csv(heatmap_path)\n\u001b[1;32m    150\u001b[0m     df_columns \u001b[39m=\u001b[39m df\u001b[39m.\u001b[39mcolumns\u001b[39m.\u001b[39mtolist()\n\u001b[1;32m    151\u001b[0m     Xd \u001b[39m=\u001b[39m np\u001b[39m.\u001b[39marray(df[df_columns[\u001b[39m0\u001b[39m]])\n",
      "File \u001b[0;32m~/anaconda3/envs/s4/lib/python3.11/site-packages/pandas/util/_decorators.py:211\u001b[0m, in \u001b[0;36mdeprecate_kwarg.<locals>._deprecate_kwarg.<locals>.wrapper\u001b[0;34m(*args, **kwargs)\u001b[0m\n\u001b[1;32m    209\u001b[0m     \u001b[39melse\u001b[39;00m:\n\u001b[1;32m    210\u001b[0m         kwargs[new_arg_name] \u001b[39m=\u001b[39m new_arg_value\n\u001b[0;32m--> 211\u001b[0m \u001b[39mreturn\u001b[39;00m func(\u001b[39m*\u001b[39margs, \u001b[39m*\u001b[39m\u001b[39m*\u001b[39mkwargs)\n",
      "File \u001b[0;32m~/anaconda3/envs/s4/lib/python3.11/site-packages/pandas/util/_decorators.py:331\u001b[0m, in \u001b[0;36mdeprecate_nonkeyword_arguments.<locals>.decorate.<locals>.wrapper\u001b[0;34m(*args, **kwargs)\u001b[0m\n\u001b[1;32m    325\u001b[0m \u001b[39mif\u001b[39;00m \u001b[39mlen\u001b[39m(args) \u001b[39m>\u001b[39m num_allow_args:\n\u001b[1;32m    326\u001b[0m     warnings\u001b[39m.\u001b[39mwarn(\n\u001b[1;32m    327\u001b[0m         msg\u001b[39m.\u001b[39mformat(arguments\u001b[39m=\u001b[39m_format_argument_list(allow_args)),\n\u001b[1;32m    328\u001b[0m         \u001b[39mFutureWarning\u001b[39;00m,\n\u001b[1;32m    329\u001b[0m         stacklevel\u001b[39m=\u001b[39mfind_stack_level(),\n\u001b[1;32m    330\u001b[0m     )\n\u001b[0;32m--> 331\u001b[0m \u001b[39mreturn\u001b[39;00m func(\u001b[39m*\u001b[39margs, \u001b[39m*\u001b[39m\u001b[39m*\u001b[39mkwargs)\n",
      "File \u001b[0;32m~/anaconda3/envs/s4/lib/python3.11/site-packages/pandas/io/parsers/readers.py:950\u001b[0m, in \u001b[0;36mread_csv\u001b[0;34m(filepath_or_buffer, sep, delimiter, header, names, index_col, usecols, squeeze, prefix, mangle_dupe_cols, dtype, engine, converters, true_values, false_values, skipinitialspace, skiprows, skipfooter, nrows, na_values, keep_default_na, na_filter, verbose, skip_blank_lines, parse_dates, infer_datetime_format, keep_date_col, date_parser, dayfirst, cache_dates, iterator, chunksize, compression, thousands, decimal, lineterminator, quotechar, quoting, doublequote, escapechar, comment, encoding, encoding_errors, dialect, error_bad_lines, warn_bad_lines, on_bad_lines, delim_whitespace, low_memory, memory_map, float_precision, storage_options)\u001b[0m\n\u001b[1;32m    935\u001b[0m kwds_defaults \u001b[39m=\u001b[39m _refine_defaults_read(\n\u001b[1;32m    936\u001b[0m     dialect,\n\u001b[1;32m    937\u001b[0m     delimiter,\n\u001b[0;32m   (...)\u001b[0m\n\u001b[1;32m    946\u001b[0m     defaults\u001b[39m=\u001b[39m{\u001b[39m\"\u001b[39m\u001b[39mdelimiter\u001b[39m\u001b[39m\"\u001b[39m: \u001b[39m\"\u001b[39m\u001b[39m,\u001b[39m\u001b[39m\"\u001b[39m},\n\u001b[1;32m    947\u001b[0m )\n\u001b[1;32m    948\u001b[0m kwds\u001b[39m.\u001b[39mupdate(kwds_defaults)\n\u001b[0;32m--> 950\u001b[0m \u001b[39mreturn\u001b[39;00m _read(filepath_or_buffer, kwds)\n",
      "File \u001b[0;32m~/anaconda3/envs/s4/lib/python3.11/site-packages/pandas/io/parsers/readers.py:605\u001b[0m, in \u001b[0;36m_read\u001b[0;34m(filepath_or_buffer, kwds)\u001b[0m\n\u001b[1;32m    602\u001b[0m _validate_names(kwds\u001b[39m.\u001b[39mget(\u001b[39m\"\u001b[39m\u001b[39mnames\u001b[39m\u001b[39m\"\u001b[39m, \u001b[39mNone\u001b[39;00m))\n\u001b[1;32m    604\u001b[0m \u001b[39m# Create the parser.\u001b[39;00m\n\u001b[0;32m--> 605\u001b[0m parser \u001b[39m=\u001b[39m TextFileReader(filepath_or_buffer, \u001b[39m*\u001b[39m\u001b[39m*\u001b[39mkwds)\n\u001b[1;32m    607\u001b[0m \u001b[39mif\u001b[39;00m chunksize \u001b[39mor\u001b[39;00m iterator:\n\u001b[1;32m    608\u001b[0m     \u001b[39mreturn\u001b[39;00m parser\n",
      "File \u001b[0;32m~/anaconda3/envs/s4/lib/python3.11/site-packages/pandas/io/parsers/readers.py:1442\u001b[0m, in \u001b[0;36mTextFileReader.__init__\u001b[0;34m(self, f, engine, **kwds)\u001b[0m\n\u001b[1;32m   1439\u001b[0m     \u001b[39mself\u001b[39m\u001b[39m.\u001b[39moptions[\u001b[39m\"\u001b[39m\u001b[39mhas_index_names\u001b[39m\u001b[39m\"\u001b[39m] \u001b[39m=\u001b[39m kwds[\u001b[39m\"\u001b[39m\u001b[39mhas_index_names\u001b[39m\u001b[39m\"\u001b[39m]\n\u001b[1;32m   1441\u001b[0m \u001b[39mself\u001b[39m\u001b[39m.\u001b[39mhandles: IOHandles \u001b[39m|\u001b[39m \u001b[39mNone\u001b[39;00m \u001b[39m=\u001b[39m \u001b[39mNone\u001b[39;00m\n\u001b[0;32m-> 1442\u001b[0m \u001b[39mself\u001b[39m\u001b[39m.\u001b[39m_engine \u001b[39m=\u001b[39m \u001b[39mself\u001b[39m\u001b[39m.\u001b[39m_make_engine(f, \u001b[39mself\u001b[39m\u001b[39m.\u001b[39mengine)\n",
      "File \u001b[0;32m~/anaconda3/envs/s4/lib/python3.11/site-packages/pandas/io/parsers/readers.py:1735\u001b[0m, in \u001b[0;36mTextFileReader._make_engine\u001b[0;34m(self, f, engine)\u001b[0m\n\u001b[1;32m   1733\u001b[0m     \u001b[39mif\u001b[39;00m \u001b[39m\"\u001b[39m\u001b[39mb\u001b[39m\u001b[39m\"\u001b[39m \u001b[39mnot\u001b[39;00m \u001b[39min\u001b[39;00m mode:\n\u001b[1;32m   1734\u001b[0m         mode \u001b[39m+\u001b[39m\u001b[39m=\u001b[39m \u001b[39m\"\u001b[39m\u001b[39mb\u001b[39m\u001b[39m\"\u001b[39m\n\u001b[0;32m-> 1735\u001b[0m \u001b[39mself\u001b[39m\u001b[39m.\u001b[39mhandles \u001b[39m=\u001b[39m get_handle(\n\u001b[1;32m   1736\u001b[0m     f,\n\u001b[1;32m   1737\u001b[0m     mode,\n\u001b[1;32m   1738\u001b[0m     encoding\u001b[39m=\u001b[39m\u001b[39mself\u001b[39m\u001b[39m.\u001b[39moptions\u001b[39m.\u001b[39mget(\u001b[39m\"\u001b[39m\u001b[39mencoding\u001b[39m\u001b[39m\"\u001b[39m, \u001b[39mNone\u001b[39;00m),\n\u001b[1;32m   1739\u001b[0m     compression\u001b[39m=\u001b[39m\u001b[39mself\u001b[39m\u001b[39m.\u001b[39moptions\u001b[39m.\u001b[39mget(\u001b[39m\"\u001b[39m\u001b[39mcompression\u001b[39m\u001b[39m\"\u001b[39m, \u001b[39mNone\u001b[39;00m),\n\u001b[1;32m   1740\u001b[0m     memory_map\u001b[39m=\u001b[39m\u001b[39mself\u001b[39m\u001b[39m.\u001b[39moptions\u001b[39m.\u001b[39mget(\u001b[39m\"\u001b[39m\u001b[39mmemory_map\u001b[39m\u001b[39m\"\u001b[39m, \u001b[39mFalse\u001b[39;00m),\n\u001b[1;32m   1741\u001b[0m     is_text\u001b[39m=\u001b[39mis_text,\n\u001b[1;32m   1742\u001b[0m     errors\u001b[39m=\u001b[39m\u001b[39mself\u001b[39m\u001b[39m.\u001b[39moptions\u001b[39m.\u001b[39mget(\u001b[39m\"\u001b[39m\u001b[39mencoding_errors\u001b[39m\u001b[39m\"\u001b[39m, \u001b[39m\"\u001b[39m\u001b[39mstrict\u001b[39m\u001b[39m\"\u001b[39m),\n\u001b[1;32m   1743\u001b[0m     storage_options\u001b[39m=\u001b[39m\u001b[39mself\u001b[39m\u001b[39m.\u001b[39moptions\u001b[39m.\u001b[39mget(\u001b[39m\"\u001b[39m\u001b[39mstorage_options\u001b[39m\u001b[39m\"\u001b[39m, \u001b[39mNone\u001b[39;00m),\n\u001b[1;32m   1744\u001b[0m )\n\u001b[1;32m   1745\u001b[0m \u001b[39massert\u001b[39;00m \u001b[39mself\u001b[39m\u001b[39m.\u001b[39mhandles \u001b[39mis\u001b[39;00m \u001b[39mnot\u001b[39;00m \u001b[39mNone\u001b[39;00m\n\u001b[1;32m   1746\u001b[0m f \u001b[39m=\u001b[39m \u001b[39mself\u001b[39m\u001b[39m.\u001b[39mhandles\u001b[39m.\u001b[39mhandle\n",
      "File \u001b[0;32m~/anaconda3/envs/s4/lib/python3.11/site-packages/pandas/io/common.py:856\u001b[0m, in \u001b[0;36mget_handle\u001b[0;34m(path_or_buf, mode, encoding, compression, memory_map, is_text, errors, storage_options)\u001b[0m\n\u001b[1;32m    851\u001b[0m \u001b[39melif\u001b[39;00m \u001b[39misinstance\u001b[39m(handle, \u001b[39mstr\u001b[39m):\n\u001b[1;32m    852\u001b[0m     \u001b[39m# Check whether the filename is to be opened in binary mode.\u001b[39;00m\n\u001b[1;32m    853\u001b[0m     \u001b[39m# Binary mode does not support 'encoding' and 'newline'.\u001b[39;00m\n\u001b[1;32m    854\u001b[0m     \u001b[39mif\u001b[39;00m ioargs\u001b[39m.\u001b[39mencoding \u001b[39mand\u001b[39;00m \u001b[39m\"\u001b[39m\u001b[39mb\u001b[39m\u001b[39m\"\u001b[39m \u001b[39mnot\u001b[39;00m \u001b[39min\u001b[39;00m ioargs\u001b[39m.\u001b[39mmode:\n\u001b[1;32m    855\u001b[0m         \u001b[39m# Encoding\u001b[39;00m\n\u001b[0;32m--> 856\u001b[0m         handle \u001b[39m=\u001b[39m \u001b[39mopen\u001b[39m(\n\u001b[1;32m    857\u001b[0m             handle,\n\u001b[1;32m    858\u001b[0m             ioargs\u001b[39m.\u001b[39mmode,\n\u001b[1;32m    859\u001b[0m             encoding\u001b[39m=\u001b[39mioargs\u001b[39m.\u001b[39mencoding,\n\u001b[1;32m    860\u001b[0m             errors\u001b[39m=\u001b[39merrors,\n\u001b[1;32m    861\u001b[0m             newline\u001b[39m=\u001b[39m\u001b[39m\"\u001b[39m\u001b[39m\"\u001b[39m,\n\u001b[1;32m    862\u001b[0m         )\n\u001b[1;32m    863\u001b[0m     \u001b[39melse\u001b[39;00m:\n\u001b[1;32m    864\u001b[0m         \u001b[39m# Binary mode\u001b[39;00m\n\u001b[1;32m    865\u001b[0m         handle \u001b[39m=\u001b[39m \u001b[39mopen\u001b[39m(handle, ioargs\u001b[39m.\u001b[39mmode)\n",
      "\u001b[0;31mFileNotFoundError\u001b[0m: [Errno 2] No such file or directory: '/home/apexmds/Desktop/pcm_phc_tr/MeDiANN_AI2.0/data/heatmap_numbasis_51_num_wlngth_501/heatmap_0.5.csv'"
     ]
    }
   ],
   "source": [
    "result_analyzer.heatmap_plotter(method='boost')\n",
    "result_analyzer.heatmap_plotter(method='baseline')"
   ]
  },
  {
   "cell_type": "code",
   "execution_count": null,
   "metadata": {},
   "outputs": [],
   "source": [
    "R_real = data['R'][:,0:501]"
   ]
  },
  {
   "cell_type": "code",
   "execution_count": null,
   "metadata": {},
   "outputs": [],
   "source": [
    "R_pred_baseline = np.array(baseline_pred)[:,0:501]\n",
    "R_pred_boost = np.array(boosted_pred)[:,0:501]"
   ]
  },
  {
   "cell_type": "code",
   "execution_count": null,
   "metadata": {},
   "outputs": [
    {
     "data": {
      "text/plain": [
       "<matplotlib.legend.Legend at 0x7f9af06e2150>"
      ]
     },
     "execution_count": 156,
     "metadata": {},
     "output_type": "execute_result"
    },
    {
     "data": {
      "image/png": "[encoded data removed]",
      "text/plain": [
       "<Figure size 640x480 with 1 Axes>"
      ]
     },
     "metadata": {},
     "output_type": "display_data"
    }
   ],
   "source": [
    "K = np.random.choice(len(data['X']))\n",
    "plt.plot(R_pred_baseline[K],color='navy',label='Baseline')\n",
    "plt.plot(R_real[K],color='k',label='Target')\n",
    "plt.plot(R_pred_boost[K],color='darkorange',label='Boost')\n",
    "plt.legend()"
   ]
  },
  {
   "cell_type": "code",
   "execution_count": null,
   "metadata": {},
   "outputs": [],
   "source": [
    "\n",
    "def filter_X(X):\n",
    "    X_sets = [list(set(X[:,i])) for i in range(len(X.T))]\n",
    "    keep_i = []\n",
    "    for i in range(len(X_sets)):\n",
    "        if len(X_sets[i])>1:\n",
    "            keep_i.append(i)\n",
    "    return X[:,keep_i]"
   ]
  },
  {
   "cell_type": "code",
   "execution_count": null,
   "metadata": {},
   "outputs": [],
   "source": [
    "X = np.load(data_path+'/X_10_p_a.npy',allow_pickle=True)"
   ]
  },
  {
   "cell_type": "markdown",
   "metadata": {},
   "source": [
    "### Q: What is the function of filter_X?"
   ]
  },
  {
   "cell_type": "code",
   "execution_count": null,
   "metadata": {},
   "outputs": [
    {
     "data": {
      "text/plain": [
       "array([[1.5666666666666667, 0.4626262626262626, 0.22256060606060607],\n",
       "       [0.24696969696969695, 0.548989898989899, 0.189],\n",
       "       [0.9166666666666666, 0.05, 0.4212121212121212],\n",
       "       ...,\n",
       "       [1.743939393939394, 0.7696969696969697, 0.26325],\n",
       "       [0.30606060606060603, 0.4338383838383838, 0.19724242424242425],\n",
       "       [1.2909090909090908, 0.2898989898989899, 0.037636363636363634]],\n",
       "      dtype=object)"
      ]
     },
     "execution_count": 150,
     "metadata": {},
     "output_type": "execute_result"
    }
   ],
   "source": [
    "filter_X(X)"
   ]
  },
  {
   "cell_type": "code",
   "execution_count": null,
   "metadata": {},
   "outputs": [],
   "source": []
  }
 ],
 "metadata": {
  "kernelspec": {
   "display_name": "s4",
   "language": "python",
   "name": "python3"
  },
  "language_info": {
   "codemirror_mode": {
    "name": "ipython",
    "version": 3
   },
   "file_extension": ".py",
   "mimetype": "text/x-python",
   "name": "python",
   "nbconvert_exporter": "python",
   "pygments_lexer": "ipython3",
   "version": "3.11.4"
  },
  "orig_nbformat": 4
 },
 "nbformat": 4,
 "nbformat_minor": 2
}
